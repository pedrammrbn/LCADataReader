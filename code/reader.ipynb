{
 "cells": [
  {
   "cell_type": "code",
   "execution_count": 1,
   "metadata": {},
   "outputs": [],
   "source": [
    "# 0.0 - imports\n",
    "\n",
    "import os\n",
    "import openpyxl as xl\n",
    "import numpy as np\n",
    "import matplotlib.pyplot as plt"
   ]
  },
  {
   "cell_type": "code",
   "execution_count": 2,
   "metadata": {},
   "outputs": [
    {
     "name": "stdout",
     "output_type": "stream",
     "text": [
      "Filepath: \n",
      "e:\\Github Repo\\LCADataReader\\database\\KBOB.xlsx\n"
     ]
    }
   ],
   "source": [
    "# 0.1 - create database filepath\n",
    "\n",
    "filename = \"KBOB.xlsx\"\n",
    "folder = \"database\"\n",
    "\n",
    "directory = os.getcwd().rsplit('\\\\',1)[0]\n",
    "filepath = os.path.join(directory, folder, filename)\n",
    "\n",
    "print(f\"Filepath: \\n\" + filepath)"
   ]
  },
  {
   "cell_type": "code",
   "execution_count": 3,
   "metadata": {},
   "outputs": [
    {
     "name": "stdout",
     "output_type": "stream",
     "text": [
      "Loaded database file successfully.\n"
     ]
    }
   ],
   "source": [
    "# 0.2 - open database file\n",
    "\n",
    "try:\n",
    "    wb = xl.load_workbook(filepath)\n",
    "    print(\"Loaded database file successfully.\")\n",
    "except:\n",
    "    print(\"Error opening database file.\")"
   ]
  },
  {
   "cell_type": "code",
   "execution_count": 4,
   "metadata": {},
   "outputs": [
    {
     "name": "stdout",
     "output_type": "stream",
     "text": [
      "0 Erläuterung  Explication\n",
      "1 Baumaterialien Matériaux\n",
      "2 Gebäudetechnik Technique\n",
      "3 Energie Énergie\n",
      "4 Transporte Transports\n",
      "5 Entsorgung Déchets\n"
     ]
    }
   ],
   "source": [
    "# explore database\n",
    "worksheets = wb.sheetnames\n",
    "for index, sheet in enumerate(worksheets):\n",
    "    print(index, sheet)"
   ]
  },
  {
   "cell_type": "code",
   "execution_count": 27,
   "metadata": {},
   "outputs": [
    {
     "name": "stdout",
     "output_type": "stream",
     "text": [
      "SHEET:  0 <Worksheet \"Baumaterialien Matériaux\">\n",
      "10000\n",
      "118\n"
     ]
    }
   ],
   "source": [
    "# extract data\n",
    "\n",
    "# A. select which sheets to extract\n",
    "selection_indices = [1]\n",
    "selected_worksheets = [worksheets[i] for i in selection_indices]\n",
    "\n",
    "# B. for each sheet find main chunk\n",
    "\n",
    "for index, sheet in enumerate(selected_worksheets):\n",
    "    ws = wb[sheet]\n",
    "    print(\"SHEET: \", index, ws)\n",
    "    \n",
    "    type_memory = [\"None\"]\n",
    "    \n",
    "    wb_type = []\n",
    "\n",
    "    sheet_description = []\n",
    "    for row in ws.iter_rows(min_row=0, max_col=30, max_row=10000):\n",
    "        #print(\"ROW: \", row)\n",
    "        \n",
    "        row_type_keys = []\n",
    "        for cell in row:\n",
    "            #print(\"CELL:        \", cell)\n",
    "            #print(\"CELL_VALUE:  \", cell.value)\n",
    "            \n",
    "            # Get cell type\n",
    "            cell_type = None\n",
    "            if(cell.value == None): \n",
    "                cell_type = 'None'\n",
    "            else:\n",
    "                cell_type = type(cell.value)\n",
    "            #print(\"CELL_TYPE:   \", cell_type)\n",
    "\n",
    "            # Check with type memory and add if not defined\n",
    "            exists_in_memory = cell_type in type_memory\n",
    "            if(exists_in_memory):\n",
    "                pass\n",
    "            else:\n",
    "                #print(\"not defined! defining...\")\n",
    "                type_memory.append(cell_type)\n",
    "\n",
    "            cell_type_key = type_memory.index(cell_type)\n",
    "\n",
    "            \n",
    "            row_type_keys.append(str(cell_type_key))\n",
    "        #print(row[0].row, \"\".join(row_type_keys))\n",
    "        #print(row_type)\n",
    "        row_description = str(1)+\"\".join(row_type_keys)\n",
    "        sheet_description.append(row_description)\n",
    "\n",
    "print(len(sheet_description))\n",
    "sheet_description_set = set(sheet_description)\n",
    "print(len(sheet_description_set))\n",
    "\n",
    "occurances = []\n",
    "for item in sheet_description_set:\n",
    "    occurances.append(sheet_description.count(item))\n",
    "\n",
    "names = []\n",
    "for item in sheet_description_set:\n",
    "    names.append(item)\n",
    "# C. get column names\n",
    "\n",
    "# D. get row groups\n",
    "\n",
    "# E. get row items"
   ]
  },
  {
   "cell_type": "code",
   "execution_count": 28,
   "metadata": {},
   "outputs": [
    {
     "data": {
      "text/plain": [
       "[<matplotlib.lines.Line2D at 0x1f0bb9deb10>]"
      ]
     },
     "execution_count": 28,
     "metadata": {},
     "output_type": "execute_result"
    },
    {
     "data": {
      "image/png": "[encoded data removed]",
      "text/plain": [
       "<Figure size 640x480 with 1 Axes>"
      ]
     },
     "metadata": {},
     "output_type": "display_data"
    }
   ],
   "source": [
    "plt.plot(names, occurances)\n",
    "\n",
    "# plot does not look correct?"
   ]
  }
 ],
 "metadata": {
  "kernelspec": {
   "display_name": "bombyxLCA",
   "language": "python",
   "name": "python3"
  },
  "language_info": {
   "codemirror_mode": {
    "name": "ipython",
    "version": 3
   },
   "file_extension": ".py",
   "mimetype": "text/x-python",
   "name": "python",
   "nbconvert_exporter": "python",
   "pygments_lexer": "ipython3",
   "version": "3.11.5"
  },
  "orig_nbformat": 4
 },
 "nbformat": 4,
 "nbformat_minor": 2
}
