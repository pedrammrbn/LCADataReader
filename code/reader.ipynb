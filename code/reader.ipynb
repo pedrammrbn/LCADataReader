{
 "cells": [
  {
   "cell_type": "code",
   "execution_count": 17,
   "metadata": {},
   "outputs": [],
   "source": [
    "# 0.0 - imports\n",
    "\n",
    "import os\n",
    "import openpyxl as xl\n",
    "import numpy as np\n",
    "import matplotlib.pyplot as plt"
   ]
  },
  {
   "cell_type": "code",
   "execution_count": 2,
   "metadata": {},
   "outputs": [
    {
     "name": "stdout",
     "output_type": "stream",
     "text": [
      "Filepath: \n",
      "e:\\Github Repo\\LCADataReader\\database\\KBOB.xlsx\n"
     ]
    }
   ],
   "source": [
    "# 0.1 - create database filepath\n",
    "\n",
    "filename = \"KBOB.xlsx\"\n",
    "folder = \"database\"\n",
    "\n",
    "directory = os.getcwd().rsplit('\\\\',1)[0]\n",
    "filepath = os.path.join(directory, folder, filename)\n",
    "\n",
    "print(f\"Filepath: \\n\" + filepath)"
   ]
  },
  {
   "cell_type": "code",
   "execution_count": 3,
   "metadata": {},
   "outputs": [
    {
     "name": "stdout",
     "output_type": "stream",
     "text": [
      "Loaded database file successfully.\n"
     ]
    }
   ],
   "source": [
    "# 0.2 - open database file\n",
    "\n",
    "try:\n",
    "    wb = xl.load_workbook(filepath)\n",
    "    print(\"Loaded database file successfully.\")\n",
    "except:\n",
    "    print(\"Error opening database file.\")"
   ]
  },
  {
   "cell_type": "code",
   "execution_count": 4,
   "metadata": {},
   "outputs": [
    {
     "name": "stdout",
     "output_type": "stream",
     "text": [
      "0 Erläuterung  Explication\n",
      "1 Baumaterialien Matériaux\n",
      "2 Gebäudetechnik Technique\n",
      "3 Energie Énergie\n",
      "4 Transporte Transports\n",
      "5 Entsorgung Déchets\n"
     ]
    }
   ],
   "source": [
    "# explore database\n",
    "worksheets = wb.sheetnames\n",
    "for index, sheet in enumerate(worksheets):\n",
    "    print(index, sheet)"
   ]
  },
  {
   "cell_type": "code",
   "execution_count": 74,
   "metadata": {},
   "outputs": [
    {
     "name": "stdout",
     "output_type": "stream",
     "text": [
      "0 <Worksheet \"Baumaterialien Matériaux\">\n",
      "row:  (<Cell 'Baumaterialien Matériaux'.A1>, <Cell 'Baumaterialien Matériaux'.B1>, <Cell 'Baumaterialien Matériaux'.C1>, <Cell 'Baumaterialien Matériaux'.D1>, <Cell 'Baumaterialien Matériaux'.E1>, <Cell 'Baumaterialien Matériaux'.F1>, <Cell 'Baumaterialien Matériaux'.G1>, <Cell 'Baumaterialien Matériaux'.H1>, <Cell 'Baumaterialien Matériaux'.I1>, <Cell 'Baumaterialien Matériaux'.J1>)\n",
      "['n', 'n', 's', 'n', 'n', 'n', 'n', 'n', 'n', 'n']\n",
      "row:  (<Cell 'Baumaterialien Matériaux'.A2>, <Cell 'Baumaterialien Matériaux'.B2>, <Cell 'Baumaterialien Matériaux'.C2>, <Cell 'Baumaterialien Matériaux'.D2>, <Cell 'Baumaterialien Matériaux'.E2>, <Cell 'Baumaterialien Matériaux'.F2>, <Cell 'Baumaterialien Matériaux'.G2>, <Cell 'Baumaterialien Matériaux'.H2>, <Cell 'Baumaterialien Matériaux'.I2>, <Cell 'Baumaterialien Matériaux'.J2>)\n",
      "['n', 'n', 'n', 'n', 'n', 'n', 'n', 'n', 'n', 'n']\n",
      "row:  (<Cell 'Baumaterialien Matériaux'.A3>, <Cell 'Baumaterialien Matériaux'.B3>, <Cell 'Baumaterialien Matériaux'.C3>, <Cell 'Baumaterialien Matériaux'.D3>, <Cell 'Baumaterialien Matériaux'.E3>, <Cell 'Baumaterialien Matériaux'.F3>, <Cell 'Baumaterialien Matériaux'.G3>, <Cell 'Baumaterialien Matériaux'.H3>, <Cell 'Baumaterialien Matériaux'.I3>, <Cell 'Baumaterialien Matériaux'.J3>)\n",
      "['n', 'n', 'n', 'n', 'n', 'n', 'n', 'n', 's', 's']\n",
      "row:  (<Cell 'Baumaterialien Matériaux'.A4>, <Cell 'Baumaterialien Matériaux'.B4>, <Cell 'Baumaterialien Matériaux'.C4>, <Cell 'Baumaterialien Matériaux'.D4>, <Cell 'Baumaterialien Matériaux'.E4>, <Cell 'Baumaterialien Matériaux'.F4>, <Cell 'Baumaterialien Matériaux'.G4>, <Cell 'Baumaterialien Matériaux'.H4>, <MergedCell 'Baumaterialien Matériaux'.I4>, <MergedCell 'Baumaterialien Matériaux'.J4>)\n",
      "['s', 's', 's', 's', 's', 's', 's', 's', 'n', 'n']\n",
      "row:  (<Cell 'Baumaterialien Matériaux'.A5>, <Cell 'Baumaterialien Matériaux'.B5>, <MergedCell 'Baumaterialien Matériaux'.C5>, <Cell 'Baumaterialien Matériaux'.D5>, <MergedCell 'Baumaterialien Matériaux'.E5>, <MergedCell 'Baumaterialien Matériaux'.F5>, <MergedCell 'Baumaterialien Matériaux'.G5>, <Cell 'Baumaterialien Matériaux'.H5>, <MergedCell 'Baumaterialien Matériaux'.I5>, <MergedCell 'Baumaterialien Matériaux'.J5>)\n",
      "['s', 'n', 'n', 's', 'n', 'n', 'n', 's', 'n', 'n']\n",
      "row:  (<MergedCell 'Baumaterialien Matériaux'.A6>, <Cell 'Baumaterialien Matériaux'.B6>, <MergedCell 'Baumaterialien Matériaux'.C6>, <MergedCell 'Baumaterialien Matériaux'.D6>, <MergedCell 'Baumaterialien Matériaux'.E6>, <Cell 'Baumaterialien Matériaux'.F6>, <MergedCell 'Baumaterialien Matériaux'.G6>, <MergedCell 'Baumaterialien Matériaux'.H6>, <MergedCell 'Baumaterialien Matériaux'.I6>, <MergedCell 'Baumaterialien Matériaux'.J6>)\n",
      "['n', 'n', 'n', 'n', 'n', 's', 'n', 'n', 'n', 'n']\n",
      "row:  (<Cell 'Baumaterialien Matériaux'.A7>, <Cell 'Baumaterialien Matériaux'.B7>, <Cell 'Baumaterialien Matériaux'.C7>, <Cell 'Baumaterialien Matériaux'.D7>, <Cell 'Baumaterialien Matériaux'.E7>, <MergedCell 'Baumaterialien Matériaux'.F7>, <MergedCell 'Baumaterialien Matériaux'.G7>, <Cell 'Baumaterialien Matériaux'.H7>, <Cell 'Baumaterialien Matériaux'.I7>, <Cell 'Baumaterialien Matériaux'.J7>)\n",
      "['n', 'n', 's', 'n', 's', 'n', 'n', 's', 's', 's']\n",
      "row:  (<Cell 'Baumaterialien Matériaux'.A8>, <Cell 'Baumaterialien Matériaux'.B8>, <MergedCell 'Baumaterialien Matériaux'.C8>, <Cell 'Baumaterialien Matériaux'.D8>, <Cell 'Baumaterialien Matériaux'.E8>, <MergedCell 'Baumaterialien Matériaux'.F8>, <MergedCell 'Baumaterialien Matériaux'.G8>, <Cell 'Baumaterialien Matériaux'.H8>, <Cell 'Baumaterialien Matériaux'.I8>, <Cell 'Baumaterialien Matériaux'.J8>)\n",
      "['n', 'n', 'n', 'n', 'n', 'n', 'n', 's', 's', 's']\n",
      "row:  (<Cell 'Baumaterialien Matériaux'.A9>, <Cell 'Baumaterialien Matériaux'.B9>, <Cell 'Baumaterialien Matériaux'.C9>, <Cell 'Baumaterialien Matériaux'.D9>, <Cell 'Baumaterialien Matériaux'.E9>, <Cell 'Baumaterialien Matériaux'.F9>, <MergedCell 'Baumaterialien Matériaux'.G9>, <Cell 'Baumaterialien Matériaux'.H9>, <Cell 'Baumaterialien Matériaux'.I9>, <Cell 'Baumaterialien Matériaux'.J9>)\n",
      "['n', 'n', 'n', 'n', 'n', 'n', 'n', 's', 's', 's']\n",
      "row:  (<Cell 'Baumaterialien Matériaux'.A10>, <Cell 'Baumaterialien Matériaux'.B10>, <Cell 'Baumaterialien Matériaux'.C10>, <Cell 'Baumaterialien Matériaux'.D10>, <Cell 'Baumaterialien Matériaux'.E10>, <Cell 'Baumaterialien Matériaux'.F10>, <Cell 'Baumaterialien Matériaux'.G10>, <Cell 'Baumaterialien Matériaux'.H10>, <Cell 'Baumaterialien Matériaux'.I10>, <Cell 'Baumaterialien Matériaux'.J10>)\n",
      "['n', 'n', 's', 'n', 'n', 's', 'n', 'n', 'n', 'n']\n",
      "row:  (<Cell 'Baumaterialien Matériaux'.A11>, <Cell 'Baumaterialien Matériaux'.B11>, <Cell 'Baumaterialien Matériaux'.C11>, <Cell 'Baumaterialien Matériaux'.D11>, <Cell 'Baumaterialien Matériaux'.E11>, <Cell 'Baumaterialien Matériaux'.F11>, <Cell 'Baumaterialien Matériaux'.G11>, <Cell 'Baumaterialien Matériaux'.H11>, <MergedCell 'Baumaterialien Matériaux'.I11>, <MergedCell 'Baumaterialien Matériaux'.J11>)\n",
      "['s', 's', 's', 's', 's', 's', 's', 's', 'n', 'n']\n",
      "row:  (<Cell 'Baumaterialien Matériaux'.A12>, <Cell 'Baumaterialien Matériaux'.B12>, <Cell 'Baumaterialien Matériaux'.C12>, <Cell 'Baumaterialien Matériaux'.D12>, <Cell 'Baumaterialien Matériaux'.E12>, <Cell 'Baumaterialien Matériaux'.F12>, <Cell 'Baumaterialien Matériaux'.G12>, <Cell 'Baumaterialien Matériaux'.H12>, <MergedCell 'Baumaterialien Matériaux'.I12>, <MergedCell 'Baumaterialien Matériaux'.J12>)\n",
      "['s', 's', 's', 's', 's', 's', 's', 's', 'n', 'n']\n",
      "row:  (<Cell 'Baumaterialien Matériaux'.A13>, <Cell 'Baumaterialien Matériaux'.B13>, <Cell 'Baumaterialien Matériaux'.C13>, <Cell 'Baumaterialien Matériaux'.D13>, <Cell 'Baumaterialien Matériaux'.E13>, <Cell 'Baumaterialien Matériaux'.F13>, <Cell 'Baumaterialien Matériaux'.G13>, <Cell 'Baumaterialien Matériaux'.H13>, <MergedCell 'Baumaterialien Matériaux'.I13>, <MergedCell 'Baumaterialien Matériaux'.J13>)\n",
      "['s', 's', 's', 's', 's', 's', 's', 's', 'n', 'n']\n",
      "row:  (<Cell 'Baumaterialien Matériaux'.A14>, <Cell 'Baumaterialien Matériaux'.B14>, <Cell 'Baumaterialien Matériaux'.C14>, <Cell 'Baumaterialien Matériaux'.D14>, <Cell 'Baumaterialien Matériaux'.E14>, <Cell 'Baumaterialien Matériaux'.F14>, <Cell 'Baumaterialien Matériaux'.G14>, <Cell 'Baumaterialien Matériaux'.H14>, <MergedCell 'Baumaterialien Matériaux'.I14>, <MergedCell 'Baumaterialien Matériaux'.J14>)\n",
      "['s', 's', 's', 's', 's', 's', 's', 's', 'n', 'n']\n",
      "row:  (<Cell 'Baumaterialien Matériaux'.A15>, <Cell 'Baumaterialien Matériaux'.B15>, <Cell 'Baumaterialien Matériaux'.C15>, <Cell 'Baumaterialien Matériaux'.D15>, <Cell 'Baumaterialien Matériaux'.E15>, <Cell 'Baumaterialien Matériaux'.F15>, <Cell 'Baumaterialien Matériaux'.G15>, <Cell 'Baumaterialien Matériaux'.H15>, <MergedCell 'Baumaterialien Matériaux'.I15>, <MergedCell 'Baumaterialien Matériaux'.J15>)\n",
      "['s', 's', 's', 's', 's', 's', 's', 's', 'n', 'n']\n",
      "row:  (<Cell 'Baumaterialien Matériaux'.A16>, <Cell 'Baumaterialien Matériaux'.B16>, <Cell 'Baumaterialien Matériaux'.C16>, <Cell 'Baumaterialien Matériaux'.D16>, <Cell 'Baumaterialien Matériaux'.E16>, <Cell 'Baumaterialien Matériaux'.F16>, <Cell 'Baumaterialien Matériaux'.G16>, <Cell 'Baumaterialien Matériaux'.H16>, <MergedCell 'Baumaterialien Matériaux'.I16>, <MergedCell 'Baumaterialien Matériaux'.J16>)\n",
      "['s', 's', 's', 's', 's', 's', 's', 's', 'n', 'n']\n",
      "row:  (<Cell 'Baumaterialien Matériaux'.A17>, <Cell 'Baumaterialien Matériaux'.B17>, <Cell 'Baumaterialien Matériaux'.C17>, <Cell 'Baumaterialien Matériaux'.D17>, <Cell 'Baumaterialien Matériaux'.E17>, <Cell 'Baumaterialien Matériaux'.F17>, <Cell 'Baumaterialien Matériaux'.G17>, <Cell 'Baumaterialien Matériaux'.H17>, <MergedCell 'Baumaterialien Matériaux'.I17>, <MergedCell 'Baumaterialien Matériaux'.J17>)\n",
      "['s', 's', 's', 's', 's', 's', 's', 's', 'n', 'n']\n",
      "row:  (<Cell 'Baumaterialien Matériaux'.A18>, <Cell 'Baumaterialien Matériaux'.B18>, <Cell 'Baumaterialien Matériaux'.C18>, <Cell 'Baumaterialien Matériaux'.D18>, <Cell 'Baumaterialien Matériaux'.E18>, <Cell 'Baumaterialien Matériaux'.F18>, <Cell 'Baumaterialien Matériaux'.G18>, <Cell 'Baumaterialien Matériaux'.H18>, <MergedCell 'Baumaterialien Matériaux'.I18>, <MergedCell 'Baumaterialien Matériaux'.J18>)\n",
      "['s', 's', 's', 's', 's', 's', 's', 's', 'n', 'n']\n",
      "row:  (<Cell 'Baumaterialien Matériaux'.A19>, <Cell 'Baumaterialien Matériaux'.B19>, <Cell 'Baumaterialien Matériaux'.C19>, <Cell 'Baumaterialien Matériaux'.D19>, <Cell 'Baumaterialien Matériaux'.E19>, <Cell 'Baumaterialien Matériaux'.F19>, <Cell 'Baumaterialien Matériaux'.G19>, <Cell 'Baumaterialien Matériaux'.H19>, <MergedCell 'Baumaterialien Matériaux'.I19>, <MergedCell 'Baumaterialien Matériaux'.J19>)\n",
      "['s', 's', 's', 's', 's', 's', 's', 's', 'n', 'n']\n",
      "row:  (<Cell 'Baumaterialien Matériaux'.A20>, <Cell 'Baumaterialien Matériaux'.B20>, <Cell 'Baumaterialien Matériaux'.C20>, <Cell 'Baumaterialien Matériaux'.D20>, <Cell 'Baumaterialien Matériaux'.E20>, <Cell 'Baumaterialien Matériaux'.F20>, <Cell 'Baumaterialien Matériaux'.G20>, <Cell 'Baumaterialien Matériaux'.H20>, <MergedCell 'Baumaterialien Matériaux'.I20>, <MergedCell 'Baumaterialien Matériaux'.J20>)\n",
      "['s', 's', 's', 's', 's', 's', 's', 's', 'n', 'n']\n",
      "row:  (<Cell 'Baumaterialien Matériaux'.A21>, <Cell 'Baumaterialien Matériaux'.B21>, <Cell 'Baumaterialien Matériaux'.C21>, <Cell 'Baumaterialien Matériaux'.D21>, <Cell 'Baumaterialien Matériaux'.E21>, <Cell 'Baumaterialien Matériaux'.F21>, <Cell 'Baumaterialien Matériaux'.G21>, <Cell 'Baumaterialien Matériaux'.H21>, <MergedCell 'Baumaterialien Matériaux'.I21>, <MergedCell 'Baumaterialien Matériaux'.J21>)\n",
      "['s', 's', 's', 's', 's', 's', 's', 's', 'n', 'n']\n",
      "row:  (<Cell 'Baumaterialien Matériaux'.A22>, <Cell 'Baumaterialien Matériaux'.B22>, <Cell 'Baumaterialien Matériaux'.C22>, <Cell 'Baumaterialien Matériaux'.D22>, <Cell 'Baumaterialien Matériaux'.E22>, <Cell 'Baumaterialien Matériaux'.F22>, <Cell 'Baumaterialien Matériaux'.G22>, <Cell 'Baumaterialien Matériaux'.H22>, <MergedCell 'Baumaterialien Matériaux'.I22>, <MergedCell 'Baumaterialien Matériaux'.J22>)\n",
      "['s', 's', 's', 's', 's', 's', 's', 's', 'n', 'n']\n",
      "row:  (<Cell 'Baumaterialien Matériaux'.A23>, <Cell 'Baumaterialien Matériaux'.B23>, <Cell 'Baumaterialien Matériaux'.C23>, <Cell 'Baumaterialien Matériaux'.D23>, <Cell 'Baumaterialien Matériaux'.E23>, <Cell 'Baumaterialien Matériaux'.F23>, <Cell 'Baumaterialien Matériaux'.G23>, <Cell 'Baumaterialien Matériaux'.H23>, <MergedCell 'Baumaterialien Matériaux'.I23>, <MergedCell 'Baumaterialien Matériaux'.J23>)\n",
      "['s', 's', 's', 's', 's', 's', 's', 's', 'n', 'n']\n",
      "row:  (<Cell 'Baumaterialien Matériaux'.A24>, <Cell 'Baumaterialien Matériaux'.B24>, <Cell 'Baumaterialien Matériaux'.C24>, <Cell 'Baumaterialien Matériaux'.D24>, <Cell 'Baumaterialien Matériaux'.E24>, <Cell 'Baumaterialien Matériaux'.F24>, <Cell 'Baumaterialien Matériaux'.G24>, <Cell 'Baumaterialien Matériaux'.H24>, <MergedCell 'Baumaterialien Matériaux'.I24>, <MergedCell 'Baumaterialien Matériaux'.J24>)\n",
      "['s', 's', 's', 's', 's', 's', 's', 's', 'n', 'n']\n",
      "row:  (<Cell 'Baumaterialien Matériaux'.A25>, <Cell 'Baumaterialien Matériaux'.B25>, <Cell 'Baumaterialien Matériaux'.C25>, <Cell 'Baumaterialien Matériaux'.D25>, <Cell 'Baumaterialien Matériaux'.E25>, <Cell 'Baumaterialien Matériaux'.F25>, <Cell 'Baumaterialien Matériaux'.G25>, <Cell 'Baumaterialien Matériaux'.H25>, <MergedCell 'Baumaterialien Matériaux'.I25>, <MergedCell 'Baumaterialien Matériaux'.J25>)\n",
      "['s', 's', 's', 's', 's', 's', 's', 's', 'n', 'n']\n",
      "row:  (<Cell 'Baumaterialien Matériaux'.A26>, <Cell 'Baumaterialien Matériaux'.B26>, <Cell 'Baumaterialien Matériaux'.C26>, <Cell 'Baumaterialien Matériaux'.D26>, <Cell 'Baumaterialien Matériaux'.E26>, <Cell 'Baumaterialien Matériaux'.F26>, <Cell 'Baumaterialien Matériaux'.G26>, <Cell 'Baumaterialien Matériaux'.H26>, <MergedCell 'Baumaterialien Matériaux'.I26>, <MergedCell 'Baumaterialien Matériaux'.J26>)\n",
      "['s', 's', 's', 's', 's', 's', 's', 's', 'n', 'n']\n",
      "row:  (<Cell 'Baumaterialien Matériaux'.A27>, <Cell 'Baumaterialien Matériaux'.B27>, <Cell 'Baumaterialien Matériaux'.C27>, <Cell 'Baumaterialien Matériaux'.D27>, <Cell 'Baumaterialien Matériaux'.E27>, <Cell 'Baumaterialien Matériaux'.F27>, <Cell 'Baumaterialien Matériaux'.G27>, <Cell 'Baumaterialien Matériaux'.H27>, <MergedCell 'Baumaterialien Matériaux'.I27>, <MergedCell 'Baumaterialien Matériaux'.J27>)\n",
      "['s', 's', 's', 's', 's', 's', 's', 's', 'n', 'n']\n",
      "row:  (<Cell 'Baumaterialien Matériaux'.A28>, <Cell 'Baumaterialien Matériaux'.B28>, <Cell 'Baumaterialien Matériaux'.C28>, <Cell 'Baumaterialien Matériaux'.D28>, <Cell 'Baumaterialien Matériaux'.E28>, <Cell 'Baumaterialien Matériaux'.F28>, <Cell 'Baumaterialien Matériaux'.G28>, <Cell 'Baumaterialien Matériaux'.H28>, <MergedCell 'Baumaterialien Matériaux'.I28>, <MergedCell 'Baumaterialien Matériaux'.J28>)\n",
      "['s', 's', 's', 's', 's', 's', 's', 's', 'n', 'n']\n",
      "row:  (<Cell 'Baumaterialien Matériaux'.A29>, <Cell 'Baumaterialien Matériaux'.B29>, <Cell 'Baumaterialien Matériaux'.C29>, <Cell 'Baumaterialien Matériaux'.D29>, <Cell 'Baumaterialien Matériaux'.E29>, <Cell 'Baumaterialien Matériaux'.F29>, <Cell 'Baumaterialien Matériaux'.G29>, <Cell 'Baumaterialien Matériaux'.H29>, <MergedCell 'Baumaterialien Matériaux'.I29>, <MergedCell 'Baumaterialien Matériaux'.J29>)\n",
      "['s', 's', 's', 's', 's', 's', 's', 's', 'n', 'n']\n",
      "row:  (<Cell 'Baumaterialien Matériaux'.A30>, <Cell 'Baumaterialien Matériaux'.B30>, <Cell 'Baumaterialien Matériaux'.C30>, <Cell 'Baumaterialien Matériaux'.D30>, <Cell 'Baumaterialien Matériaux'.E30>, <Cell 'Baumaterialien Matériaux'.F30>, <Cell 'Baumaterialien Matériaux'.G30>, <Cell 'Baumaterialien Matériaux'.H30>, <MergedCell 'Baumaterialien Matériaux'.I30>, <MergedCell 'Baumaterialien Matériaux'.J30>)\n",
      "['s', 's', 's', 's', 's', 's', 's', 's', 'n', 'n']\n",
      "row:  (<Cell 'Baumaterialien Matériaux'.A31>, <Cell 'Baumaterialien Matériaux'.B31>, <Cell 'Baumaterialien Matériaux'.C31>, <Cell 'Baumaterialien Matériaux'.D31>, <Cell 'Baumaterialien Matériaux'.E31>, <Cell 'Baumaterialien Matériaux'.F31>, <Cell 'Baumaterialien Matériaux'.G31>, <Cell 'Baumaterialien Matériaux'.H31>, <Cell 'Baumaterialien Matériaux'.I31>, <Cell 'Baumaterialien Matériaux'.J31>)\n",
      "['s', 's', 's', 's', 's', 's', 's', 'n', 'n', 'n']\n",
      "row:  (<Cell 'Baumaterialien Matériaux'.A32>, <Cell 'Baumaterialien Matériaux'.B32>, <Cell 'Baumaterialien Matériaux'.C32>, <Cell 'Baumaterialien Matériaux'.D32>, <Cell 'Baumaterialien Matériaux'.E32>, <Cell 'Baumaterialien Matériaux'.F32>, <Cell 'Baumaterialien Matériaux'.G32>, <Cell 'Baumaterialien Matériaux'.H32>, <Cell 'Baumaterialien Matériaux'.I32>, <Cell 'Baumaterialien Matériaux'.J32>)\n",
      "['s', 's', 's', 's', 's', 's', 's', 'n', 'n', 'n']\n",
      "row:  (<Cell 'Baumaterialien Matériaux'.A33>, <Cell 'Baumaterialien Matériaux'.B33>, <Cell 'Baumaterialien Matériaux'.C33>, <Cell 'Baumaterialien Matériaux'.D33>, <Cell 'Baumaterialien Matériaux'.E33>, <Cell 'Baumaterialien Matériaux'.F33>, <Cell 'Baumaterialien Matériaux'.G33>, <Cell 'Baumaterialien Matériaux'.H33>, <Cell 'Baumaterialien Matériaux'.I33>, <Cell 'Baumaterialien Matériaux'.J33>)\n",
      "['s', 's', 's', 's', 's', 's', 's', 'n', 'n', 'n']\n",
      "row:  (<Cell 'Baumaterialien Matériaux'.A34>, <Cell 'Baumaterialien Matériaux'.B34>, <Cell 'Baumaterialien Matériaux'.C34>, <Cell 'Baumaterialien Matériaux'.D34>, <Cell 'Baumaterialien Matériaux'.E34>, <Cell 'Baumaterialien Matériaux'.F34>, <Cell 'Baumaterialien Matériaux'.G34>, <Cell 'Baumaterialien Matériaux'.H34>, <Cell 'Baumaterialien Matériaux'.I34>, <Cell 'Baumaterialien Matériaux'.J34>)\n",
      "['s', 's', 's', 's', 's', 's', 's', 'n', 'n', 'n']\n",
      "row:  (<Cell 'Baumaterialien Matériaux'.A35>, <Cell 'Baumaterialien Matériaux'.B35>, <Cell 'Baumaterialien Matériaux'.C35>, <Cell 'Baumaterialien Matériaux'.D35>, <Cell 'Baumaterialien Matériaux'.E35>, <Cell 'Baumaterialien Matériaux'.F35>, <Cell 'Baumaterialien Matériaux'.G35>, <Cell 'Baumaterialien Matériaux'.H35>, <Cell 'Baumaterialien Matériaux'.I35>, <Cell 'Baumaterialien Matériaux'.J35>)\n",
      "['s', 'n', 's', 'n', 'n', 's', 'n', 'n', 'n', 'n']\n",
      "row:  (<Cell 'Baumaterialien Matériaux'.A36>, <Cell 'Baumaterialien Matériaux'.B36>, <Cell 'Baumaterialien Matériaux'.C36>, <Cell 'Baumaterialien Matériaux'.D36>, <Cell 'Baumaterialien Matériaux'.E36>, <Cell 'Baumaterialien Matériaux'.F36>, <Cell 'Baumaterialien Matériaux'.G36>, <Cell 'Baumaterialien Matériaux'.H36>, <Cell 'Baumaterialien Matériaux'.I36>, <Cell 'Baumaterialien Matériaux'.J36>)\n",
      "['n', 's', 's', 's', 's', 'n', 's', 'n', 'n', 'n']\n",
      "row:  (<Cell 'Baumaterialien Matériaux'.A37>, <Cell 'Baumaterialien Matériaux'.B37>, <Cell 'Baumaterialien Matériaux'.C37>, <Cell 'Baumaterialien Matériaux'.D37>, <Cell 'Baumaterialien Matériaux'.E37>, <Cell 'Baumaterialien Matériaux'.F37>, <Cell 'Baumaterialien Matériaux'.G37>, <Cell 'Baumaterialien Matériaux'.H37>, <Cell 'Baumaterialien Matériaux'.I37>, <Cell 'Baumaterialien Matériaux'.J37>)\n",
      "['n', 's', 's', 's', 's', 'n', 's', 'n', 'n', 'n']\n",
      "row:  (<Cell 'Baumaterialien Matériaux'.A38>, <Cell 'Baumaterialien Matériaux'.B38>, <Cell 'Baumaterialien Matériaux'.C38>, <Cell 'Baumaterialien Matériaux'.D38>, <Cell 'Baumaterialien Matériaux'.E38>, <Cell 'Baumaterialien Matériaux'.F38>, <Cell 'Baumaterialien Matériaux'.G38>, <Cell 'Baumaterialien Matériaux'.H38>, <Cell 'Baumaterialien Matériaux'.I38>, <Cell 'Baumaterialien Matériaux'.J38>)\n",
      "['n', 's', 's', 's', 's', 'n', 's', 'n', 'n', 'n']\n",
      "row:  (<Cell 'Baumaterialien Matériaux'.A39>, <Cell 'Baumaterialien Matériaux'.B39>, <Cell 'Baumaterialien Matériaux'.C39>, <Cell 'Baumaterialien Matériaux'.D39>, <Cell 'Baumaterialien Matériaux'.E39>, <Cell 'Baumaterialien Matériaux'.F39>, <Cell 'Baumaterialien Matériaux'.G39>, <Cell 'Baumaterialien Matériaux'.H39>, <Cell 'Baumaterialien Matériaux'.I39>, <Cell 'Baumaterialien Matériaux'.J39>)\n",
      "['n', 's', 's', 's', 's', 'n', 's', 'n', 'n', 'n']\n",
      "row:  (<Cell 'Baumaterialien Matériaux'.A40>, <Cell 'Baumaterialien Matériaux'.B40>, <Cell 'Baumaterialien Matériaux'.C40>, <Cell 'Baumaterialien Matériaux'.D40>, <Cell 'Baumaterialien Matériaux'.E40>, <Cell 'Baumaterialien Matériaux'.F40>, <Cell 'Baumaterialien Matériaux'.G40>, <Cell 'Baumaterialien Matériaux'.H40>, <MergedCell 'Baumaterialien Matériaux'.I40>, <MergedCell 'Baumaterialien Matériaux'.J40>)\n",
      "['s', 's', 's', 's', 's', 'n', 's', 's', 'n', 'n']\n",
      "row:  (<Cell 'Baumaterialien Matériaux'.A41>, <Cell 'Baumaterialien Matériaux'.B41>, <Cell 'Baumaterialien Matériaux'.C41>, <Cell 'Baumaterialien Matériaux'.D41>, <Cell 'Baumaterialien Matériaux'.E41>, <Cell 'Baumaterialien Matériaux'.F41>, <Cell 'Baumaterialien Matériaux'.G41>, <Cell 'Baumaterialien Matériaux'.H41>, <MergedCell 'Baumaterialien Matériaux'.I41>, <MergedCell 'Baumaterialien Matériaux'.J41>)\n",
      "['s', 's', 's', 's', 's', 'n', 's', 's', 'n', 'n']\n",
      "row:  (<Cell 'Baumaterialien Matériaux'.A42>, <Cell 'Baumaterialien Matériaux'.B42>, <Cell 'Baumaterialien Matériaux'.C42>, <Cell 'Baumaterialien Matériaux'.D42>, <Cell 'Baumaterialien Matériaux'.E42>, <Cell 'Baumaterialien Matériaux'.F42>, <Cell 'Baumaterialien Matériaux'.G42>, <Cell 'Baumaterialien Matériaux'.H42>, <Cell 'Baumaterialien Matériaux'.I42>, <Cell 'Baumaterialien Matériaux'.J42>)\n",
      "['s', 's', 's', 's', 's', 'n', 's', 'n', 'n', 'n']\n",
      "row:  (<Cell 'Baumaterialien Matériaux'.A43>, <Cell 'Baumaterialien Matériaux'.B43>, <Cell 'Baumaterialien Matériaux'.C43>, <Cell 'Baumaterialien Matériaux'.D43>, <Cell 'Baumaterialien Matériaux'.E43>, <Cell 'Baumaterialien Matériaux'.F43>, <Cell 'Baumaterialien Matériaux'.G43>, <Cell 'Baumaterialien Matériaux'.H43>, <Cell 'Baumaterialien Matériaux'.I43>, <Cell 'Baumaterialien Matériaux'.J43>)\n",
      "['s', 's', 's', 's', 's', 'n', 's', 'n', 'n', 'n']\n",
      "row:  (<Cell 'Baumaterialien Matériaux'.A44>, <MergedCell 'Baumaterialien Matériaux'.B44>, <MergedCell 'Baumaterialien Matériaux'.C44>, <MergedCell 'Baumaterialien Matériaux'.D44>, <MergedCell 'Baumaterialien Matériaux'.E44>, <MergedCell 'Baumaterialien Matériaux'.F44>, <MergedCell 'Baumaterialien Matériaux'.G44>, <MergedCell 'Baumaterialien Matériaux'.H44>, <MergedCell 'Baumaterialien Matériaux'.I44>, <MergedCell 'Baumaterialien Matériaux'.J44>)\n",
      "['s', 'n', 'n', 'n', 'n', 'n', 'n', 'n', 'n', 'n']\n",
      "row:  (<Cell 'Baumaterialien Matériaux'.A45>, <MergedCell 'Baumaterialien Matériaux'.B45>, <MergedCell 'Baumaterialien Matériaux'.C45>, <MergedCell 'Baumaterialien Matériaux'.D45>, <MergedCell 'Baumaterialien Matériaux'.E45>, <MergedCell 'Baumaterialien Matériaux'.F45>, <MergedCell 'Baumaterialien Matériaux'.G45>, <MergedCell 'Baumaterialien Matériaux'.H45>, <MergedCell 'Baumaterialien Matériaux'.I45>, <MergedCell 'Baumaterialien Matériaux'.J45>)\n",
      "['s', 'n', 'n', 'n', 'n', 'n', 'n', 'n', 'n', 'n']\n",
      "row:  (<Cell 'Baumaterialien Matériaux'.A46>, <Cell 'Baumaterialien Matériaux'.B46>, <Cell 'Baumaterialien Matériaux'.C46>, <Cell 'Baumaterialien Matériaux'.D46>, <Cell 'Baumaterialien Matériaux'.E46>, <Cell 'Baumaterialien Matériaux'.F46>, <Cell 'Baumaterialien Matériaux'.G46>, <Cell 'Baumaterialien Matériaux'.H46>, <Cell 'Baumaterialien Matériaux'.I46>, <Cell 'Baumaterialien Matériaux'.J46>)\n",
      "['s', 'n', 's', 'n', 'n', 's', 'n', 'n', 'n', 'n']\n",
      "row:  (<Cell 'Baumaterialien Matériaux'.A47>, <Cell 'Baumaterialien Matériaux'.B47>, <Cell 'Baumaterialien Matériaux'.C47>, <Cell 'Baumaterialien Matériaux'.D47>, <Cell 'Baumaterialien Matériaux'.E47>, <Cell 'Baumaterialien Matériaux'.F47>, <Cell 'Baumaterialien Matériaux'.G47>, <Cell 'Baumaterialien Matériaux'.H47>, <Cell 'Baumaterialien Matériaux'.I47>, <Cell 'Baumaterialien Matériaux'.J47>)\n",
      "['s', 's', 's', 's', 's', 'n', 's', 'n', 'n', 'n']\n",
      "row:  (<Cell 'Baumaterialien Matériaux'.A48>, <Cell 'Baumaterialien Matériaux'.B48>, <Cell 'Baumaterialien Matériaux'.C48>, <Cell 'Baumaterialien Matériaux'.D48>, <Cell 'Baumaterialien Matériaux'.E48>, <Cell 'Baumaterialien Matériaux'.F48>, <Cell 'Baumaterialien Matériaux'.G48>, <Cell 'Baumaterialien Matériaux'.H48>, <Cell 'Baumaterialien Matériaux'.I48>, <Cell 'Baumaterialien Matériaux'.J48>)\n",
      "['s', 's', 's', 's', 's', 'n', 's', 'n', 'n', 'n']\n",
      "row:  (<Cell 'Baumaterialien Matériaux'.A49>, <Cell 'Baumaterialien Matériaux'.B49>, <Cell 'Baumaterialien Matériaux'.C49>, <Cell 'Baumaterialien Matériaux'.D49>, <Cell 'Baumaterialien Matériaux'.E49>, <Cell 'Baumaterialien Matériaux'.F49>, <Cell 'Baumaterialien Matériaux'.G49>, <Cell 'Baumaterialien Matériaux'.H49>, <Cell 'Baumaterialien Matériaux'.I49>, <Cell 'Baumaterialien Matériaux'.J49>)\n",
      "['s', 's', 's', 's', 's', 'n', 's', 'n', 'n', 'n']\n",
      "row:  (<Cell 'Baumaterialien Matériaux'.A50>, <Cell 'Baumaterialien Matériaux'.B50>, <Cell 'Baumaterialien Matériaux'.C50>, <Cell 'Baumaterialien Matériaux'.D50>, <Cell 'Baumaterialien Matériaux'.E50>, <Cell 'Baumaterialien Matériaux'.F50>, <Cell 'Baumaterialien Matériaux'.G50>, <Cell 'Baumaterialien Matériaux'.H50>, <Cell 'Baumaterialien Matériaux'.I50>, <Cell 'Baumaterialien Matériaux'.J50>)\n",
      "['s', 's', 's', 's', 's', 's', 's', 'n', 'n', 'n']\n",
      "row:  (<Cell 'Baumaterialien Matériaux'.A51>, <Cell 'Baumaterialien Matériaux'.B51>, <Cell 'Baumaterialien Matériaux'.C51>, <Cell 'Baumaterialien Matériaux'.D51>, <Cell 'Baumaterialien Matériaux'.E51>, <Cell 'Baumaterialien Matériaux'.F51>, <Cell 'Baumaterialien Matériaux'.G51>, <Cell 'Baumaterialien Matériaux'.H51>, <Cell 'Baumaterialien Matériaux'.I51>, <Cell 'Baumaterialien Matériaux'.J51>)\n",
      "['s', 's', 's', 's', 's', 's', 's', 'n', 'n', 'n']\n",
      "row:  (<Cell 'Baumaterialien Matériaux'.A52>, <Cell 'Baumaterialien Matériaux'.B52>, <Cell 'Baumaterialien Matériaux'.C52>, <Cell 'Baumaterialien Matériaux'.D52>, <Cell 'Baumaterialien Matériaux'.E52>, <Cell 'Baumaterialien Matériaux'.F52>, <Cell 'Baumaterialien Matériaux'.G52>, <Cell 'Baumaterialien Matériaux'.H52>, <Cell 'Baumaterialien Matériaux'.I52>, <Cell 'Baumaterialien Matériaux'.J52>)\n",
      "['s', 's', 's', 's', 's', 'n', 's', 'n', 'n', 'n']\n",
      "row:  (<Cell 'Baumaterialien Matériaux'.A53>, <Cell 'Baumaterialien Matériaux'.B53>, <Cell 'Baumaterialien Matériaux'.C53>, <Cell 'Baumaterialien Matériaux'.D53>, <Cell 'Baumaterialien Matériaux'.E53>, <Cell 'Baumaterialien Matériaux'.F53>, <Cell 'Baumaterialien Matériaux'.G53>, <Cell 'Baumaterialien Matériaux'.H53>, <Cell 'Baumaterialien Matériaux'.I53>, <Cell 'Baumaterialien Matériaux'.J53>)\n",
      "['s', 's', 's', 's', 's', 'n', 's', 'n', 'n', 'n']\n",
      "row:  (<Cell 'Baumaterialien Matériaux'.A54>, <Cell 'Baumaterialien Matériaux'.B54>, <Cell 'Baumaterialien Matériaux'.C54>, <Cell 'Baumaterialien Matériaux'.D54>, <Cell 'Baumaterialien Matériaux'.E54>, <Cell 'Baumaterialien Matériaux'.F54>, <Cell 'Baumaterialien Matériaux'.G54>, <Cell 'Baumaterialien Matériaux'.H54>, <Cell 'Baumaterialien Matériaux'.I54>, <Cell 'Baumaterialien Matériaux'.J54>)\n",
      "['s', 's', 's', 's', 's', 'n', 's', 'n', 'n', 'n']\n",
      "row:  (<Cell 'Baumaterialien Matériaux'.A55>, <Cell 'Baumaterialien Matériaux'.B55>, <Cell 'Baumaterialien Matériaux'.C55>, <Cell 'Baumaterialien Matériaux'.D55>, <Cell 'Baumaterialien Matériaux'.E55>, <Cell 'Baumaterialien Matériaux'.F55>, <Cell 'Baumaterialien Matériaux'.G55>, <Cell 'Baumaterialien Matériaux'.H55>, <Cell 'Baumaterialien Matériaux'.I55>, <Cell 'Baumaterialien Matériaux'.J55>)\n",
      "['s', 's', 's', 's', 's', 'n', 's', 'n', 'n', 'n']\n",
      "row:  (<Cell 'Baumaterialien Matériaux'.A56>, <Cell 'Baumaterialien Matériaux'.B56>, <Cell 'Baumaterialien Matériaux'.C56>, <Cell 'Baumaterialien Matériaux'.D56>, <Cell 'Baumaterialien Matériaux'.E56>, <Cell 'Baumaterialien Matériaux'.F56>, <Cell 'Baumaterialien Matériaux'.G56>, <Cell 'Baumaterialien Matériaux'.H56>, <Cell 'Baumaterialien Matériaux'.I56>, <Cell 'Baumaterialien Matériaux'.J56>)\n",
      "['s', 's', 's', 's', 's', 'n', 's', 'n', 'n', 'n']\n",
      "row:  (<Cell 'Baumaterialien Matériaux'.A57>, <Cell 'Baumaterialien Matériaux'.B57>, <Cell 'Baumaterialien Matériaux'.C57>, <Cell 'Baumaterialien Matériaux'.D57>, <Cell 'Baumaterialien Matériaux'.E57>, <Cell 'Baumaterialien Matériaux'.F57>, <Cell 'Baumaterialien Matériaux'.G57>, <Cell 'Baumaterialien Matériaux'.H57>, <Cell 'Baumaterialien Matériaux'.I57>, <Cell 'Baumaterialien Matériaux'.J57>)\n",
      "['s', 's', 's', 's', 's', 'n', 's', 'n', 'n', 'n']\n",
      "row:  (<Cell 'Baumaterialien Matériaux'.A58>, <Cell 'Baumaterialien Matériaux'.B58>, <Cell 'Baumaterialien Matériaux'.C58>, <Cell 'Baumaterialien Matériaux'.D58>, <Cell 'Baumaterialien Matériaux'.E58>, <Cell 'Baumaterialien Matériaux'.F58>, <Cell 'Baumaterialien Matériaux'.G58>, <Cell 'Baumaterialien Matériaux'.H58>, <Cell 'Baumaterialien Matériaux'.I58>, <Cell 'Baumaterialien Matériaux'.J58>)\n",
      "['s', 's', 's', 's', 's', 'n', 's', 'n', 'n', 'n']\n",
      "row:  (<Cell 'Baumaterialien Matériaux'.A59>, <Cell 'Baumaterialien Matériaux'.B59>, <Cell 'Baumaterialien Matériaux'.C59>, <Cell 'Baumaterialien Matériaux'.D59>, <Cell 'Baumaterialien Matériaux'.E59>, <Cell 'Baumaterialien Matériaux'.F59>, <Cell 'Baumaterialien Matériaux'.G59>, <Cell 'Baumaterialien Matériaux'.H59>, <Cell 'Baumaterialien Matériaux'.I59>, <Cell 'Baumaterialien Matériaux'.J59>)\n",
      "['s', 'n', 's', 'n', 'n', 's', 'n', 'n', 'n', 'n']\n",
      "row:  (<Cell 'Baumaterialien Matériaux'.A60>, <Cell 'Baumaterialien Matériaux'.B60>, <Cell 'Baumaterialien Matériaux'.C60>, <Cell 'Baumaterialien Matériaux'.D60>, <Cell 'Baumaterialien Matériaux'.E60>, <Cell 'Baumaterialien Matériaux'.F60>, <Cell 'Baumaterialien Matériaux'.G60>, <Cell 'Baumaterialien Matériaux'.H60>, <Cell 'Baumaterialien Matériaux'.I60>, <Cell 'Baumaterialien Matériaux'.J60>)\n",
      "['s', 's', 's', 's', 's', 'n', 's', 'n', 'n', 'n']\n"
     ]
    }
   ],
   "source": [
    "# extract data\n",
    "\n",
    "# A. select which sheets to extract\n",
    "selection_indices = [1]\n",
    "selected_worksheets = [worksheets[i] for i in selection_indices]\n",
    "\n",
    "# B. for each sheet find main chunk\n",
    "\n",
    "for index, sheet in enumerate(selected_worksheets):\n",
    "    ws = wb[sheet]\n",
    "    print(index, ws)\n",
    "    \n",
    "    type_memory = {\n",
    "        0 : None\n",
    "    }\n",
    "\n",
    "    for row in ws.iter_rows(min_row=1, max_col=10, max_row=60):\n",
    "        print(\"row: \", row)\n",
    "        \n",
    "        row_types = []\n",
    "        for cell in row:\n",
    "            # print(\"cell\", cell)\n",
    "            # print(\"cell.value: \", cell.value)\n",
    "            # print(\"cell.type: \", cell.data_type)\n",
    "            row_types.append(cell.data_type)\n",
    "\n",
    "        print(row_types)\n",
    "            # if cell == None:\n",
    "            #     type_index = 0\n",
    "                #cell_type = type(cell)\n",
    "                # if(cell_type in type_memory):\n",
    "                #     type_index= type_memory.get(cell_type)\n",
    "                # else:\n",
    "                #     type_memory.update({len(type_memory) : cell_type})\n",
    "\n",
    "            #print(cell_type)\n",
    "        #row_types = [type for type in [type(cell) for cell in row]]\n",
    "\n",
    "        #     if(cell == None):\n",
    "        #         print(\"none\")\n",
    "        #     elif(type_memory.):\n",
    "\n",
    "            #print(\"Check: \", isinstance(cell_type, None))\n",
    "\n",
    "\n",
    "# C. get column names\n",
    "\n",
    "# D. get row groups\n",
    "\n",
    "# E. get row items"
   ]
  },
  {
   "cell_type": "code",
   "execution_count": 22,
   "metadata": {},
   "outputs": [
    {
     "data": {
      "image/png": "[encoded data removed]",
      "text/plain": [
       "<Figure size 640x480 with 1 Axes>"
      ]
     },
     "metadata": {},
     "output_type": "display_data"
    }
   ],
   "source": [
    "list = [1,3,1,1,1,3,3,5,6,7,7,8,9]\n",
    "ypoints = np.array(list)\n",
    "plt.plot(ypoints, 'o')\n",
    "plt.show()"
   ]
  },
  {
   "cell_type": "code",
   "execution_count": null,
   "metadata": {},
   "outputs": [],
   "source": []
  }
 ],
 "metadata": {
  "kernelspec": {
   "display_name": "bombyxLCA",
   "language": "python",
   "name": "python3"
  },
  "language_info": {
   "codemirror_mode": {
    "name": "ipython",
    "version": 3
   },
   "file_extension": ".py",
   "mimetype": "text/x-python",
   "name": "python",
   "nbconvert_exporter": "python",
   "pygments_lexer": "ipython3",
   "version": "3.11.5"
  },
  "orig_nbformat": 4
 },
 "nbformat": 4,
 "nbformat_minor": 2
}
