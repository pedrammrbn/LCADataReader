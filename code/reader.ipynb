{
 "cells": [
  {
   "cell_type": "code",
   "execution_count": 1,
   "metadata": {},
   "outputs": [],
   "source": [
    "# 0.0 - imports\n",
    "\n",
    "import os\n",
    "import openpyxl as xl\n",
    "import numpy as np\n",
    "import matplotlib.pyplot as plt"
   ]
  },
  {
   "cell_type": "code",
   "execution_count": 30,
   "metadata": {},
   "outputs": [
    {
     "name": "stdout",
     "output_type": "stream",
     "text": [
      "Filepath: \n",
      "e:\\Github Repo\\LCADataReader\\database\\KBOBv4.xlsx\n"
     ]
    }
   ],
   "source": [
    "# 0.1 - create database filepath\n",
    "\n",
    "filename = \"KBOBv4.xlsx\"\n",
    "folder = \"database\"\n",
    "\n",
    "directory = os.getcwd().rsplit('\\\\',1)[0]\n",
    "filepath = os.path.join(directory, folder, filename)\n",
    "\n",
    "print(f\"Filepath: \\n\" + filepath)"
   ]
  },
  {
   "cell_type": "code",
   "execution_count": 31,
   "metadata": {},
   "outputs": [
    {
     "name": "stdout",
     "output_type": "stream",
     "text": [
      "Loaded database file successfully.\n"
     ]
    }
   ],
   "source": [
    "# 0.2 - open database file\n",
    "\n",
    "try:\n",
    "    wb = xl.load_workbook(filepath)\n",
    "    print(\"Loaded database file successfully.\")\n",
    "except:\n",
    "    print(\"Error opening database file.\")"
   ]
  },
  {
   "cell_type": "code",
   "execution_count": 32,
   "metadata": {},
   "outputs": [
    {
     "name": "stdout",
     "output_type": "stream",
     "text": [
      "0 Erläuterung  Explication\n",
      "1 Baumaterialien Matériaux\n",
      "2 Gebäudetechnik Technique\n",
      "3 Energie Énergie\n",
      "4 Transporte Transports\n",
      "5 Entsorgung Déchets\n"
     ]
    }
   ],
   "source": [
    "# explore database\n",
    "worksheets = wb.sheetnames\n",
    "for index, sheet in enumerate(worksheets):\n",
    "    print(index, sheet)"
   ]
  },
  {
   "cell_type": "code",
   "execution_count": 42,
   "metadata": {},
   "outputs": [
    {
     "name": "stdout",
     "output_type": "stream",
     "text": [
      "SHEET:  0 <Worksheet \"Baumaterialien Matériaux\">\n",
      "344\n",
      "ROW 1: \n"
     ]
    },
    {
     "ename": "TypeError",
     "evalue": "sequence item 0: expected str instance, type found",
     "output_type": "error",
     "traceback": [
      "\u001b[1;31m---------------------------------------------------------------------------\u001b[0m",
      "\u001b[1;31mTypeError\u001b[0m                                 Traceback (most recent call last)",
      "Cell \u001b[1;32mIn[42], line 21\u001b[0m\n\u001b[0;32m     19\u001b[0m         row_type_keys \u001b[38;5;241m=\u001b[39m [\u001b[38;5;28mtype\u001b[39m(cell\u001b[38;5;241m.\u001b[39mvalue) \u001b[38;5;28;01mfor\u001b[39;00m cell \u001b[38;5;129;01min\u001b[39;00m row]\n\u001b[0;32m     20\u001b[0m         \u001b[38;5;28mprint\u001b[39m(\u001b[38;5;124mf\u001b[39m\u001b[38;5;124m\"\u001b[39m\u001b[38;5;124mROW \u001b[39m\u001b[38;5;132;01m{\u001b[39;00mrownum\u001b[38;5;132;01m}\u001b[39;00m\u001b[38;5;124m: \u001b[39m\u001b[38;5;124m\"\u001b[39m, )\n\u001b[1;32m---> 21\u001b[0m         \u001b[38;5;28mprint\u001b[39m(\u001b[38;5;124;43m\"\u001b[39;49m\u001b[38;5;124;43m \u001b[39;49m\u001b[38;5;124;43m\"\u001b[39;49m\u001b[38;5;241;43m.\u001b[39;49m\u001b[43mjoin\u001b[49m\u001b[43m(\u001b[49m\u001b[43mrow_type_keys\u001b[49m\u001b[43m)\u001b[49m)\n\u001b[0;32m     23\u001b[0m         rownum \u001b[38;5;241m+\u001b[39m\u001b[38;5;241m=\u001b[39m \u001b[38;5;241m1\u001b[39m\n\u001b[0;32m     25\u001b[0m \u001b[38;5;66;03m# C. get column names\u001b[39;00m\n\u001b[0;32m     26\u001b[0m \n\u001b[0;32m     27\u001b[0m \u001b[38;5;66;03m# D. get row groups\u001b[39;00m\n\u001b[0;32m     28\u001b[0m \n\u001b[0;32m     29\u001b[0m \u001b[38;5;66;03m# E. get row items\u001b[39;00m\n",
      "\u001b[1;31mTypeError\u001b[0m: sequence item 0: expected str instance, type found"
     ]
    }
   ],
   "source": [
    "# extract data\n",
    "\n",
    "# A. select which sheets to extract\n",
    "selection_indices = [1]\n",
    "selected_worksheets = [worksheets[i] for i in selection_indices]\n",
    "\n",
    "# B. for each sheet find main chunk\n",
    "\n",
    "for index, sheet in enumerate(selected_worksheets):\n",
    "    ws = wb[sheet]\n",
    "    print(\"SHEET: \", index, ws)\n",
    "    print (ws.max_row)\n",
    "    \n",
    "    type_memory = [\"None\"]\n",
    "    \n",
    "    sheet_description = []\n",
    "    rownum = 1\n",
    "    for row in ws.iter_rows(min_row=0, max_col=ws.max_column, max_row=ws.max_row):\n",
    "        row_type_keys = [str(type(cell.value)) for cell in row]\n",
    "        print(f\"ROW {rownum}: \", )\n",
    "        print(\" \".join(row_type_keys))\n",
    "        \n",
    "        rownum += 1\n",
    "\n",
    "# C. get column names\n",
    "\n",
    "# D. get row groups\n",
    "\n",
    "# E. get row items"
   ]
  },
  {
   "cell_type": "code",
   "execution_count": 16,
   "metadata": {},
   "outputs": [
    {
     "data": {
      "image/png": "[encoded data removed]",
      "text/plain": [
       "<Figure size 640x480 with 1 Axes>"
      ]
     },
     "metadata": {},
     "output_type": "display_data"
    }
   ],
   "source": [
    "import matplotlib.pyplot as plt\n",
    "\n",
    "# Define data for the table\n",
    "data = [['Cell 1', 'Cell 2', 'Cell 3'],\n",
    "        ['Cell 4', 'Cell 5', 'Cell 6'],\n",
    "        ['Cell 7', 'Cell 8', 'Cell 9']]\n",
    "\n",
    "# Define colors for each cell\n",
    "colors = [['red', 'green', 'blue'],\n",
    "          ['yellow', 'orange', 'purple'],\n",
    "          ['cyan', 'magenta', 'brown']]\n",
    "\n",
    "# Create a figure and axis\n",
    "fig, ax = plt.subplots()\n",
    "\n",
    "# Hide the axes\n",
    "ax.axis('off')\n",
    "\n",
    "# Create the table and assign colors to cells\n",
    "table = ax.table(cellText=data, cellColours=colors, loc='center')\n",
    "\n",
    "# Adjust the cell font size and cell height\n",
    "# table.auto_set_font_size(False)\n",
    "# table.set_fontsize(15)\n",
    "table.scale(1, 3)  # Adjust the cell height\n",
    "\n",
    "# Show the plot\n",
    "plt.show()\n"
   ]
  }
 ],
 "metadata": {
  "kernelspec": {
   "display_name": "bombyxLCA",
   "language": "python",
   "name": "python3"
  },
  "language_info": {
   "codemirror_mode": {
    "name": "ipython",
    "version": 3
   },
   "file_extension": ".py",
   "mimetype": "text/x-python",
   "name": "python",
   "nbconvert_exporter": "python",
   "pygments_lexer": "ipython3",
   "version": "3.11.5"
  },
  "orig_nbformat": 4
 },
 "nbformat": 4,
 "nbformat_minor": 2
}
